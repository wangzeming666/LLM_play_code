{
 "cells": [
  {
   "cell_type": "code",
   "execution_count": 3,
   "id": "2757ab01-b257-4fdd-81dc-1c16364b988a",
   "metadata": {},
   "outputs": [],
   "source": [
    "import os\n",
    "from api_key import OPENAI_API_KEY\n",
    "from langchain_openai import OpenAIEmbeddings\n",
    "from langchain.vectorstores import FAISS\n",
    "from langchain.chains import RetrievalQA\n",
    "from langchain.llms import OpenAI\n",
    "import gradio as gr\n"
   ]
  },
  {
   "cell_type": "code",
   "execution_count": 9,
   "id": "caeb0251-cc48-4f29-93d5-bd439054ffa2",
   "metadata": {},
   "outputs": [],
   "source": [
    "\n",
    "# 初始化 embedding 和加载已保存向量库\n",
    "embeddings = OpenAIEmbeddings(openai_api_key=OPENAI_API_KEY)\n",
    "vectordb = FAISS.load_local(\"faiss_db\", embeddings, allow_dangerous_deserialization=True)\n"
   ]
  },
  {
   "cell_type": "code",
   "execution_count": 10,
   "id": "0929c00f-efbb-4682-90df-b54dbcbb774d",
   "metadata": {},
   "outputs": [],
   "source": [
    "\n",
    "# 构建问答系统\n",
    "qa = RetrievalQA.from_chain_type(\n",
    "    llm=OpenAI(openai_api_key=OPENAI_API_KEY, temperature=0),\n",
    "    retriever=vectordb.as_retriever(search_kwargs={\"k\": 3}),\n",
    "    return_source_documents=True\n",
    ")\n"
   ]
  },
  {
   "cell_type": "code",
   "execution_count": 11,
   "id": "3450ec23-9f33-439a-8089-dbc5a8d2a393",
   "metadata": {},
   "outputs": [],
   "source": [
    "\n",
    "# 回答函数\n",
    "def answer(query):\n",
    "    result = qa(query)\n",
    "    sources = \"\\n\".join([f\"- {doc.metadata.get('source', '未知来源')}: {doc.page_content[:150].strip()}…\" for doc in result[\"source_documents\"]])\n",
    "    return result[\"result\"] + \"\\n\\n**Sources:**\\n\" + sources\n",
    "\n"
   ]
  },
  {
   "cell_type": "code",
   "execution_count": 12,
   "id": "91d38242-62f6-4052-9cfd-9e18c7ae00aa",
   "metadata": {},
   "outputs": [
    {
     "name": "stdout",
     "output_type": "stream",
     "text": [
      "* Running on local URL:  http://127.0.0.1:7860\n",
      "* To create a public link, set `share=True` in `launch()`.\n"
     ]
    },
    {
     "data": {
      "text/html": [
       "<div><iframe src=\"http://127.0.0.1:7860/\" width=\"100%\" height=\"500\" allow=\"autoplay; camera; microphone; clipboard-read; clipboard-write;\" frameborder=\"0\" allowfullscreen></iframe></div>"
      ],
      "text/plain": [
       "<IPython.core.display.HTML object>"
      ]
     },
     "metadata": {},
     "output_type": "display_data"
    },
    {
     "data": {
      "text/plain": []
     },
     "execution_count": 12,
     "metadata": {},
     "output_type": "execute_result"
    },
    {
     "name": "stderr",
     "output_type": "stream",
     "text": [
      "C:\\Users\\user\\AppData\\Local\\Temp\\ipykernel_26732\\3348745992.py:3: LangChainDeprecationWarning: The method `Chain.__call__` was deprecated in langchain 0.1.0 and will be removed in 1.0. Use :meth:`~invoke` instead.\n",
      "  result = qa(query)\n"
     ]
    }
   ],
   "source": [
    "# Gradio 界面\n",
    "iface = gr.Interface(\n",
    "    fn=answer,\n",
    "    inputs=gr.Textbox(lines=2, placeholder=\"Ask your question...\"),\n",
    "    outputs=\"markdown\",\n",
    "    title=\"知识库问答助手\",\n",
    "    description=\"基于本地 FAISS 向量库的文档问答系统。\",\n",
    ")\n",
    "iface.launch()"
   ]
  },
  {
   "cell_type": "code",
   "execution_count": null,
   "id": "e0486ff5-0a54-4e7f-b483-4214ab2b6f0f",
   "metadata": {},
   "outputs": [],
   "source": []
  }
 ],
 "metadata": {
  "kernelspec": {
   "display_name": "Python 3 (ipykernel)",
   "language": "python",
   "name": "python3"
  },
  "language_info": {
   "codemirror_mode": {
    "name": "ipython",
    "version": 3
   },
   "file_extension": ".py",
   "mimetype": "text/x-python",
   "name": "python",
   "nbconvert_exporter": "python",
   "pygments_lexer": "ipython3",
   "version": "3.13.5"
  }
 },
 "nbformat": 4,
 "nbformat_minor": 5
}
