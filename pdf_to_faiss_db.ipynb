{
 "cells": [
  {
   "cell_type": "code",
   "execution_count": 6,
   "id": "3c874bfc-d13e-48b9-91c1-01aa62ff59a4",
   "metadata": {},
   "outputs": [],
   "source": [
    "import fitz\n",
    "import os\n",
    "from api_key import OPENAI_API_KEY"
   ]
  },
  {
   "cell_type": "code",
   "execution_count": 9,
   "id": "88abb6a0-c4fb-43a6-a328-2230ee898ed5",
   "metadata": {},
   "outputs": [],
   "source": [
    "def pdf_to_txt(path):\n",
    "    pdf_path = 'docs/' + path + '.pdf'\n",
    "    doc = fitz.open(pdf_path)\n",
    "    txt_path = os.path.splitext(pdf_path)[0] + \".txt\"\n",
    "    with open(txt_path, \"w\", encoding=\"utf-8\") as f:\n",
    "        for page in doc:\n",
    "            f.write(page.get_text())\n",
    "    print(f\"✓ 转换完成：{txt_path}\")"
   ]
  },
  {
   "cell_type": "code",
   "execution_count": 11,
   "id": "339a0f60-7f42-4f13-b1a6-7d5634d06342",
   "metadata": {},
   "outputs": [
    {
     "name": "stdout",
     "output_type": "stream",
     "text": [
      "✓ 转换完成：docs/scikit-learn-docs.txt\n"
     ]
    }
   ],
   "source": [
    "pdf_to_txt('scikit-learn-docs')"
   ]
  },
  {
   "cell_type": "code",
   "execution_count": 12,
   "id": "3b090127-2bcb-4f53-803f-0219803c6f26",
   "metadata": {},
   "outputs": [
    {
     "name": "stdout",
     "output_type": "stream",
     "text": [
      "✓ 转换完成：docs/xgboost-readthedocs-io-en-release_0.80.txt\n"
     ]
    }
   ],
   "source": [
    "pdf_to_txt('xgboost-readthedocs-io-en-release_0.80')"
   ]
  },
  {
   "cell_type": "code",
   "execution_count": null,
   "id": "bac67eb5-edc9-437b-9e29-50ce05c2a3ca",
   "metadata": {},
   "outputs": [],
   "source": [
    "pdf_to_txt('pandas')"
   ]
  },
  {
   "cell_type": "code",
   "execution_count": null,
   "id": "24823790-6c86-47db-83e6-543d3c7da9e9",
   "metadata": {},
   "outputs": [],
   "source": [
    "pdf_to_txt('numpy-user')"
   ]
  },
  {
   "cell_type": "code",
   "execution_count": 14,
   "id": "9b85e8ac-2b9f-458e-8a34-ca9c7a3bb54a",
   "metadata": {},
   "outputs": [],
   "source": [
    "from langchain.schema import Document\n",
    "from langchain.text_splitter import CharacterTextSplitter"
   ]
  },
  {
   "cell_type": "code",
   "execution_count": 15,
   "id": "a90ddfcd-8650-4d9a-8dd7-1f963d12ef81",
   "metadata": {},
   "outputs": [],
   "source": [
    "splitter = CharacterTextSplitter(chunk_size=800, chunk_overlap=100)\n",
    "documents = []\n",
    "\n",
    "for filename in [\"docs/pandas.txt\", \"docs/numpy-user.txt\", \"docs/scikit-learn-docs.txt\", \"docs/xgboost-readthedocs-io-en-release_0.80.txt\"]:\n",
    "    with open(filename, encoding=\"utf-8\") as f:\n",
    "        text = f.read()\n",
    "    splits = splitter.split_text(text)\n",
    "    for chunk in splits:\n",
    "        documents.append(Document(page_content=chunk, metadata={\"source\": filename}))"
   ]
  },
  {
   "cell_type": "code",
   "execution_count": 16,
   "id": "e3a74f09-7ade-4c0d-8b3d-caf4b0ef6406",
   "metadata": {},
   "outputs": [],
   "source": [
    "from langchain.embeddings import OpenAIEmbeddings\n",
    "from langchain.vectorstores import FAISS"
   ]
  },
  {
   "cell_type": "code",
   "execution_count": 27,
   "id": "1e700256-6f8a-4936-9d8b-e4474f42eacf",
   "metadata": {},
   "outputs": [
    {
     "name": "stdout",
     "output_type": "stream",
     "text": [
      "now in range 0\n",
      "now in range 100\n",
      "now in range 200\n",
      "now in range 300\n",
      "now in range 400\n",
      "now in range 500\n",
      "now in range 600\n",
      "now in range 700\n",
      "now in range 800\n",
      "now in range 900\n",
      "now in range 1000\n",
      "now in range 1100\n",
      "now in range 1200\n",
      "now in range 1300\n",
      "now in range 1400\n",
      "now in range 1500\n",
      "now in range 1600\n",
      "now in range 1700\n",
      "now in range 1800\n",
      "now in range 1900\n",
      "now in range 2000\n",
      "now in range 2100\n",
      "now in range 2200\n",
      "now in range 2300\n",
      "now in range 2400\n",
      "now in range 2500\n",
      "now in range 2600\n",
      "now in range 2700\n",
      "now in range 2800\n",
      "now in range 2900\n",
      "now in range 3000\n",
      "now in range 3100\n",
      "now in range 3200\n",
      "now in range 3300\n",
      "now in range 3400\n",
      "now in range 3500\n",
      "now in range 3600\n",
      "now in range 3700\n",
      "now in range 3800\n",
      "now in range 3900\n",
      "now in range 4000\n",
      "now in range 4100\n",
      "now in range 4200\n",
      "now in range 4300\n",
      "now in range 4400\n",
      "now in range 4500\n",
      "now in range 4600\n",
      "now in range 4700\n",
      "now in range 4800\n",
      "now in range 4900\n",
      "now in range 5000\n",
      "now in range 5100\n",
      "now in range 5200\n",
      "now in range 5300\n",
      "now in range 5400\n",
      "now in range 5500\n",
      "now in range 5600\n",
      "now in range 5700\n",
      "now in range 5800\n",
      "now in range 5900\n",
      "now in range 6000\n",
      "now in range 6100\n",
      "now in range 6200\n",
      "now in range 6300\n",
      "now in range 6400\n",
      "now in range 6500\n",
      "now in range 6600\n",
      "now in range 6700\n",
      "now in range 6800\n",
      "now in range 6900\n",
      "now in range 7000\n",
      "now in range 7100\n",
      "now in range 7200\n",
      "now in range 7300\n",
      "now in range 7400\n",
      "now in range 7500\n",
      "now in range 7600\n",
      "now in range 7700\n",
      "now in range 7800\n",
      "now in range 7900\n",
      "now in range 8000\n",
      "now in range 8100\n",
      "now in range 8200\n",
      "now in range 8300\n",
      "now in range 8400\n",
      "now in range 8500\n",
      "now in range 8600\n",
      "now in range 8700\n",
      "now in range 8800\n",
      "now in range 8900\n",
      "now in range 9000\n",
      "now in range 9100\n",
      "now in range 9200\n",
      "now in range 9300\n",
      "now in range 9400\n",
      "now in range 9500\n",
      "now in range 9600\n",
      "now in range 9700\n",
      "now in range 9800\n",
      "now in range 9900\n",
      "now in range 10000\n",
      "now in range 10100\n",
      "now in range 10200\n",
      "now in range 10300\n",
      "now in range 10400\n",
      "now in range 10500\n",
      "now in range 10600\n",
      "now in range 10700\n",
      "now in range 10800\n",
      "now in range 10900\n",
      "now in range 11000\n",
      "now in range 11100\n",
      "now in range 11200\n",
      "now in range 11300\n",
      "now in range 11400\n",
      "now in range 11500\n",
      "now in range 11600\n",
      "now in range 11700\n",
      "now in range 11800\n",
      "now in range 11900\n",
      "now in range 12000\n",
      "now in range 12100\n",
      "now in range 12200\n",
      "now in range 12300\n",
      "now in range 12400\n",
      "now in range 12500\n"
     ]
    }
   ],
   "source": [
    "from langchain.vectorstores import FAISS\n",
    "from langchain.embeddings import OpenAIEmbeddings\n",
    "from langchain.schema import Document\n",
    "import numpy as np\n",
    "\n",
    "embedding = OpenAIEmbeddings(openai_api_key=OPENAI_API_KEY)\n",
    "\n",
    "# 分批生成嵌入\n",
    "batch_size = 100\n",
    "embeddings = []\n",
    "texts = []\n",
    "metadatas = []\n",
    "\n",
    "for i in range(0, len(split_docs), batch_size):\n",
    "    batch = split_docs[i:i+batch_size]\n",
    "    texts_batch = [doc.page_content for doc in batch]\n",
    "    embeddings_batch = embedding.embed_documents(texts_batch)\n",
    "    embeddings.extend(embeddings_batch)\n",
    "    texts.extend(texts_batch)\n",
    "    metadatas.extend([doc.metadata for doc in batch])\n",
    "    print('now in range ' + str(i))\n",
    "\n",
    "\n"
   ]
  },
  {
   "cell_type": "code",
   "execution_count": 29,
   "id": "62b8d1a5-8e7f-4d8f-8951-1702b49d3fd7",
   "metadata": {},
   "outputs": [],
   "source": [
    "# 构造 FAISS 向量库\n",
    "text_embedding_pairs = list(zip(texts, embeddings))\n",
    "vectorstore = FAISS.from_embeddings(\n",
    "    text_embeddings=text_embedding_pairs,\n",
    "    embedding=embedding,  # ✅ 传入 embedding 实例\n",
    "    metadatas=metadatas\n",
    ")\n",
    "\n",
    "vectorstore.save_local(\"faiss_db\")"
   ]
  },
  {
   "cell_type": "code",
   "execution_count": null,
   "id": "0cd4f169-c276-4ad5-a008-c664104e8255",
   "metadata": {},
   "outputs": [],
   "source": []
  }
 ],
 "metadata": {
  "kernelspec": {
   "display_name": "Python 3 (ipykernel)",
   "language": "python",
   "name": "python3"
  },
  "language_info": {
   "codemirror_mode": {
    "name": "ipython",
    "version": 3
   },
   "file_extension": ".py",
   "mimetype": "text/x-python",
   "name": "python",
   "nbconvert_exporter": "python",
   "pygments_lexer": "ipython3",
   "version": "3.13.5"
  }
 },
 "nbformat": 4,
 "nbformat_minor": 5
}
